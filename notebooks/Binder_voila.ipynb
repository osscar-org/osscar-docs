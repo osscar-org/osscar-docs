{
 "cells": [
  {
   "cell_type": "markdown",
   "metadata": {},
   "source": [
    "# **Voila for web applications**"
   ]
  },
  {
   "cell_type": "markdown",
   "metadata": {},
   "source": [
    "<hr style=\"height:1px;border:none;color:#cccccc;background-color:#cccccc;\"/>\n",
    "\n",
    "<p style=\"text-align: justify;font-size:15px;width: 90%\">\n",
    "Voila is a program to render Jupyte notebooks into web applications. \n",
    "In the Jupyter blog, it says \"The goal of Project Jupyter is to improve \n",
    "the workflows of researchers, educators, scientists, and other practitioners \n",
    "of scientific computing, from the exploratory \n",
    "phase of their work to the communication of the results.\"\n",
    "</p>\n",
    "\n",
    "<p style=\"text-align: justify;font-size:15px;width: 90%\">\n",
    "    In other words, Voila will run all the code cells in the notebooks. \n",
    "    Voila hides all the code cells and only show the output cells. \n",
    "    It converts notebooks into web pages. One can see the texts and images \n",
    "    on the web pages. Users can interact with the Jupyter kernel through\n",
    "    widgets.\n",
    "</p>"
   ]
  },
  {
   "cell_type": "markdown",
   "metadata": {},
   "source": [
    "## **Deploying Voila**\n",
    "\n",
    "### **1. Run Voila locally**\n",
    "\n",
    "<p style=\"text-align: justify;font-size:15px;width: 90%\">\n",
    "    Voila can be deployed with a variety of platforms. Primarly, one can access the web pages locally.\n",
    "    The default port number is 8866. One can specify the port number with \"--port\". There are two ways\n",
    "    to use Voila locally.\n",
    "</p>\n",
    "\n",
    "<ul style=\"text-align: justify;font-size:15px;width: 90%\">\n",
    "  <li><strong>Run Voila as Jupyter server extension:</strong>\n",
    "      One can access the web apps through Jupyter server extension by inserting\n",
    "      \"/voila/rende/\" after the Jupyter base URL and before the notebook path. \n",
    "  </li> \n",
    "  <li><strong>Run Voila as standalone application:</strong>\n",
    "      One can also run Voila as standalone application through terminal. \n",
    "  </li>\n",
    "</ul>"
   ]
  },
  {
   "cell_type": "markdown",
   "metadata": {},
   "source": [
    "### **2. Deploying with Binder (mybinder.org)**"
   ]
  },
  {
   "cell_type": "markdown",
   "metadata": {},
   "source": [
    "<br>\n",
    "<p style=\"text-align: justify;font-size:15px; width: 90%\">\n",
    "    Binder (mybinder.org) offers free cloud computing services to deploy Jupyter applications.\n",
    "    We can deploy the web applications with Voila by calling the Voila server extension. \n",
    "    One can follow the steps as listed below:\n",
    "</p>\n",
    "\n",
    "<ul style=\"text-align: justify;font-size:15px;width: 90%\">\n",
    "    <li> In order to use the voila, one needs to install the voila. For the binder cloud, \n",
    "         put the package name \"voila\" into the requirements.txt file. </li>\n",
    "    <li> The voila Jupyter server extension is named as \"<strong>voila/render</strong>\". </li>\n",
    "</ul>\n",
    "    \n",
    "<p style=\"text-align: justify;font-size:15px; width: 90%\"> \n",
    "     Put the URL in the mybinder.org as shown below:\n",
    "</p>\n",
    "\n",
    "<img src=\"./figures/fig_binderVoila.png\"/>"
   ]
  },
  {
   "cell_type": "markdown",
   "metadata": {},
   "source": [
    "### **3. Deploying at Materials Cloud (dokku platform)**\n",
    "\n",
    "<p style=\"text-align: justify;font-size:15px; width: 90%\">\n",
    "    The disadavantage of using Binder is that the cloud computing power is very limited and\n",
    "    loading can take long time. Alternately, we can delopy the apps through Mateerials Cloud.\n",
    "    Here is the link for how to deploy a new tool at Materials Cloud.\n",
    "</p>\n",
    "\n",
    "https://github.com/materialscloud-org/issues/wiki/Contributing-a-new-tool\n",
    "\n",
    "<p style=\"text-align: justify;font-size:15px; width: 90%\">\n",
    "For deploying apps with Voila for single notebook, we need set the Procfile file as:\n",
    "</p>\n",
    "\n",
    "```bash\n",
    "web: voila —-port=$PORT —-no-browser your_notebook.ipynb\n",
    "```\n",
    "\n",
    "<p style=\"text-align: justify;font-size:15px; width: 90%\">\n",
    "For multiple notebooks, one can put them in a folder and use Voila to host the \n",
    "whole folder as:\n",
    "</p>\n",
    "\n",
    "```bash\n",
    "web: voila —-port=$PORT —-no-browser your_folder/\n",
    "```\n",
    "\n",
    "<p style=\"text-align: justify;font-size:15px; width: 90%\">\n",
    "In order to save the computing resources and prevent unstopping kernels, one\n",
    "    can set the timeout to kill idle kernels as:\n",
    "</p>\n",
    "\n",
    "```bash\n",
    "web: voila —-port=$PORT —-no-browser your_notebook.ipynb --MappingKernelManager.cull_interval=60 --MappingKernelManager.cull_idle_timeout=120\n",
    "```"
   ]
  },
  {
   "cell_type": "markdown",
   "metadata": {},
   "source": [
    "### **4. Use OSSCAR Voila template**"
   ]
  },
  {
   "cell_type": "markdown",
   "metadata": {},
   "source": [
    "<p style=\"text-align: justify;font-size:15px; width: 90%\"> \n",
    "    We developed a Voila template (<strong>voila-osscar-template</strong>) \n",
    "    for the OSSCAR project. The template has been released with PyPi. \n",
    "    One can install it locally with pip.\n",
    "</p>\n",
    "\n",
    "```python\n",
    "pip install voila-osscar-template\n",
    "```\n",
    "\n",
    "<p style=\"text-align: justify;font-size:15px; width: 90%\">\n",
    "    For delopying with Binder and Dokku platforms,\n",
    "    One needs to put the \"voila-osscar-template\" into the <strong>requriments.txt</strong> file. \n",
    "    For Binder, one needs to specify the <strong>jupyter_config.json</strong> file in the GitHub \n",
    "    repository. The context of this file is shown below:\n",
    "</p>\n",
    "\n",
    "```bash\n",
    "{\n",
    "  \"VoilaConfiguration\": {\n",
    "    \"enable_nbextensions\": true,  \n",
    "    \"theme\": \"light\",\n",
    "    \"template\": \"osscar\"\n",
    "  }\n",
    "}\n",
    "```\n",
    "\n",
    "<p style=\"text-align: justify;font-size:15px; width: 90%\">\n",
    "    Normally, we need to set the <strong>enable_nbextenions: true</strong> for \n",
    "    using custom widgets like the \"widget-periodictable\". The <strong>theme</strong> \n",
    "    has two options, <strong>light</strong> and <strong>dark</strong>.\n",
    "</p>\n",
    "\n",
    "<p style=\"text-align: justify;font-size:15px; width: 90%\">\n",
    "    For dokku, we can modify the Procfile file as:\n",
    "</p>\n",
    "\n",
    "```bash\n",
    "web: voila --template=osscar --VoilaConfiguration.enable_nbextensions=True --port=$PORT --no-browser your_notebook.ipynb\n",
    "```\n",
    "\n",
    "<p style=\"text-align: justify;font-size:15px; width: 90%\">\n",
    "    For mutiple notebooks, this template (special feature) will redirect the starting page\n",
    "    from \"index.ipynb\". One can create the \"index.ipynb\" file to link all\n",
    "    other notebooks. The Procfile is shown below:\n",
    "</p>\n",
    "\n",
    "```bash\n",
    "web: voila --template=osscar --VoilaConfiguration.enable_nbextensions=True --port=$PORT --no-browser your_folder/\n",
    "```"
   ]
  }
 ],
 "metadata": {
  "kernelspec": {
   "display_name": "Python 3",
   "language": "python",
   "name": "python3"
  },
  "language_info": {
   "codemirror_mode": {
    "name": "ipython",
    "version": 3
   },
   "file_extension": ".py",
   "mimetype": "text/x-python",
   "name": "python",
   "nbconvert_exporter": "python",
   "pygments_lexer": "ipython3",
   "version": "3.7.9"
  }
 },
 "nbformat": 4,
 "nbformat_minor": 4
}
