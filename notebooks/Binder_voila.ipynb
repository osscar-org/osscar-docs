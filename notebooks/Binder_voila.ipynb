{
 "cells": [
  {
   "cell_type": "markdown",
   "metadata": {},
   "source": [
    "# Use Binder with Voila"
   ]
  },
  {
   "cell_type": "markdown",
   "metadata": {},
   "source": [
    "## Configuration for Binder"
   ]
  },
  {
   "cell_type": "markdown",
   "metadata": {},
   "source": [
    "<br>\n",
    "<div style=\"text-align: justify;font-size:15px\"> \n",
    "    <li> In order to use the voila, one needs to install the voila. For the binder cloud, put the package name \"voila\" into the requirements.txt file. </li>\n",
    "    <li> The voila Jupyter server extension is named as \"voila/render\". </li>\n",
    "</div>\n",
    "\n",
    "\n",
    "<p style=\"text-align: justify;font-size:15px\"> \n",
    "     Put the URL in the mybinder.org as shown below:\n",
    "</p>\n",
    "\n",
    "<img src=\"./figures/fig_binderVoila.png\"/>"
   ]
  },
  {
   "cell_type": "markdown",
   "metadata": {},
   "source": [
    "## Use OSSCAR Voila template"
   ]
  },
  {
   "cell_type": "markdown",
   "metadata": {},
   "source": [
    "<p style=\"text-align: justify;font-size:15px\"> \n",
    "We developed a Voila template (voila-osscar-template) for the OSSCAR project. The template has been released with PyPi. One can\n",
    "install it locally with pip.\n",
    "</p>\n",
    "\n",
    "```python\n",
    "pip install voila-osscar-template\n",
    "```\n",
    "\n",
    "One needs to put it into the `requriments.txt` file for the Binder. \n",
    "One needs to specify the `jupyter_config.json` file in the GitHub repository. The context of this file is\n",
    "shown below:\n",
    "\n",
    "```bash\n",
    "{\n",
    "  \"VoilaConfiguration\": {\n",
    "    \"enable_nbextensions\": true,  \n",
    "    \"theme\": \"light\",\n",
    "    \"template\": \"osscar\"\n",
    "  }\n",
    "}\n",
    "```\n",
    "\n",
    "One may need to set the `enable_nbextenions: true`, if using custom widgets like the widget-periodictable. The `theme` has two options, `light` and `dark`."
   ]
  },
  {
   "cell_type": "markdown",
   "metadata": {},
   "source": [
    "This work has been done with the support of the EPFL Open Science found [OSSCAR](http://www.osscar.org).\n",
    "\n",
    "<img src=\"./figures/OSSCAR_logo.png\" style=\"height:40px; width: 200px\"/>"
   ]
  }
 ],
 "metadata": {
  "kernelspec": {
   "display_name": "Python 3",
   "language": "python",
   "name": "python3"
  },
  "language_info": {
   "codemirror_mode": {
    "name": "ipython",
    "version": 3
   },
   "file_extension": ".py",
   "mimetype": "text/x-python",
   "name": "python",
   "nbconvert_exporter": "python",
   "pygments_lexer": "ipython3",
   "version": "3.7.7"
  }
 },
 "nbformat": 4,
 "nbformat_minor": 4
}
