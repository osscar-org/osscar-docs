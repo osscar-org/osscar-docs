{
 "cells": [
  {
   "cell_type": "markdown",
   "metadata": {},
   "source": [
    "# Tutorial index\n",
    "\n",
    "* [Jupyter introduction](Jupyter_introdcution.ipynb)\n",
    "* [Use binder for Jupyter notebook and lab](Binder_tutorial.ipynb)\n",
    "* [Voila for web applications](Binder_voila.ipynb)\n",
    "* [Use widget for the Jupyter](Use_widgets.ipynb)\n",
    "* [A custom widget example](Custom_widget_example.ipynb)\n",
    "* [Sine function with widget interact](Sine_function_a.ipynb)\n",
    "* [Sine function with more advanced widgets](Sine_function_b.ipynb)\n"
   ]
  },
  {
   "cell_type": "markdown",
   "metadata": {},
   "source": [
    "This work has been done with the support of the EPFL Open Science found [OSSCAR](http://www.osscar.org).\n",
    "\n",
    "<img src=\"./figures/OSSCAR_logo.png\" style=\"height:40px; width: 200px\"/>"
   ]
  }
 ],
 "metadata": {
  "kernelspec": {
   "display_name": "Python 3",
   "language": "python",
   "name": "python3"
  },
  "language_info": {
   "codemirror_mode": {
    "name": "ipython",
    "version": 3
   },
   "file_extension": ".py",
   "mimetype": "text/x-python",
   "name": "python",
   "nbconvert_exporter": "python",
   "pygments_lexer": "ipython3",
   "version": "3.7.9"
  }
 },
 "nbformat": 4,
 "nbformat_minor": 4
}
