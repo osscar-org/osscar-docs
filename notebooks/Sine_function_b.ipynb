{
 "cells": [
  {
   "cell_type": "markdown",
   "metadata": {},
   "source": [
    "# Use more widgets for the interactive sine function"
   ]
  },
  {
   "cell_type": "code",
   "execution_count": null,
   "metadata": {},
   "outputs": [],
   "source": [
    "%reload_ext reprint_magic"
   ]
  },
  {
   "cell_type": "markdown",
   "metadata": {},
   "source": [
    "## import all the python packages\n",
    "<br>\n",
    "<div style=\"text-align: justify; font-size: large;\"> \n",
    "    Here, we need import all the functions from different packages. \"Matplotlib\" is used to plot the figure. \"Numpy\" is for computing the sine function. \"Ipywidgets\" are needed to create the widgets.\n",
    "</div>"
   ]
  },
  {
   "cell_type": "code",
   "execution_count": null,
   "metadata": {},
   "outputs": [],
   "source": [
    "%%reprint\n",
    "import numpy as np\n",
    "import matplotlib.pyplot as plt\n",
    "from matplotlib.pyplot import figure\n",
    "from ipywidgets import Accordion, IntSlider, Dropdown, Box, HBox, VBox, Layout, ColorPicker, Button\n",
    "from ipywidgets import Text, Output, HTML\n",
    "from IPython.display import display, clear_output, FileLink, FileLinks"
   ]
  },
  {
   "cell_type": "markdown",
   "metadata": {},
   "source": [
    "## Create widgets \n",
    "\n",
    "<br>\n",
    "<div style=\"text-align: justify; font-size: large;\"> \n",
    "    I create two integer sliders to control parameter k and w in $sin(kx+w)$ function. A color picker is used to choose the color of the plot. One can input the title of the figure in the text box. \n",
    "    \n",
    "</div>"
   ]
  },
  {
   "cell_type": "code",
   "execution_count": null,
   "metadata": {},
   "outputs": [],
   "source": [
    "%%reprint\n",
    "k_slider = IntSlider(value=0, min=-10, max=10, description = \"$k$\", continuous_update=False)\n",
    "w_slider = IntSlider(value=0, min=-10, max=10, description = \"$w$\", continuous_update=False)\n",
    "cpicker  = ColorPicker(concise=False, description='Pick a color for plot', value='red', disabled=False)\n",
    "title_widget = Text(value='Input title name here', description='Figure title:',disabled=False)\n",
    "out = Output()\n",
    "\n",
    "type_widget = Dropdown(options=(\n",
    "        (\"Sine function\",\"sin\"),\n",
    "        (\"Cosine function\",\"cos\"),  \n",
    "    ), \n",
    "    description = \"function type\", continuous_update=False, layout=Layout(width='250px'));"
   ]
  },
  {
   "cell_type": "markdown",
   "metadata": {},
   "source": [
    "## Get the x, y data for plot\n",
    "\n",
    "<br>\n",
    "<div style=\"text-align: justify; font-size: large;\"> \n",
    "    Define a function to compute the x and y data array, which will be used for the figure. \n",
    "</div>"
   ]
  },
  {
   "cell_type": "code",
   "execution_count": null,
   "metadata": {},
   "outputs": [],
   "source": [
    "%%reprint\n",
    "def get_numerical_array(k_value, w_value, function_type):\n",
    "    x = np.linspace(0, 2 * np.pi, 2000)\n",
    "    if function_type == \"sin\":\n",
    "        y = np.sin(k_value*x + w_value)\n",
    "    elif function_type == \"cos\":\n",
    "        y = np.cos(k_value*x + w_value)\n",
    "    return x, y\n",
    "        "
   ]
  },
  {
   "cell_type": "markdown",
   "metadata": {},
   "source": [
    "## Define the callback function for updating the figure\n",
    "\n",
    "<br>\n",
    "<div style=\"text-align: justify; font-size: large;\"> \n",
    "    Define the callback function, which links between the widgets and the figure. When there is changing in the value of the widgets, the plot will be update automatically. \n",
    "</div>"
   ]
  },
  {
   "cell_type": "code",
   "execution_count": null,
   "metadata": {},
   "outputs": [],
   "source": [
    "%%reprint\n",
    "def on_parameter_change(change):\n",
    "    x, y = get_numerical_array(k_slider.value, w_slider.value, type_widget.value);\n",
    "    with out:\n",
    "        clear_output(wait=True)\n",
    "        fig = plt.figure(figsize=(8,6))\n",
    "        plt.plot(x, y, color=cpicker.value)\n",
    "        plt.xlim(0, 2*np.pi)\n",
    "        plt.ylim(-1, 1)\n",
    "        plt.xlabel(\"X\", fontsize=20)\n",
    "        plt.ylabel(\"Y\", fontsize=20)\n",
    "        plt.grid()\n",
    "        plt.title(title_widget.value, fontsize=25)\n",
    "        plt.tick_params(axis='both', which='major', labelsize=20)\n",
    "        plt.show()\n",
    "    return fig \n",
    "\n",
    "k_slider.observe(on_parameter_change, names='value', type='change')\n",
    "w_slider.observe(on_parameter_change, names='value', type='change')\n",
    "type_widget.observe(on_parameter_change, names='value', type='change')\n",
    "cpicker.observe(on_parameter_change, names='value', type='change')\n",
    "title_widget.observe(on_parameter_change, names='value', type='change')\n",
    "on_parameter_change(None)"
   ]
  },
  {
   "cell_type": "markdown",
   "metadata": {},
   "source": [
    "## Display the widgets\n",
    "\n",
    "<br>\n",
    "<div style=\"text-align: justify; font-size: large;\"> \n",
    "    Use the \"VBox\" and \"HBox\" to arrange the layout of the widgets. \n",
    "</div>"
   ]
  },
  {
   "cell_type": "code",
   "execution_count": null,
   "metadata": {},
   "outputs": [],
   "source": [
    "box1 = VBox([k_slider, w_slider, type_widget], layout=Layout(width='400px'));\n",
    "box2 = VBox([cpicker, title_widget], layout=Layout(width='400px'));\n",
    "\n",
    "display(VBox([box1, box2]))"
   ]
  },
  {
   "cell_type": "markdown",
   "metadata": {},
   "source": [
    "## Display the plot\n",
    "\n",
    "<br>\n",
    "<div style=\"text-align: justify; font-size: large;\"> \n",
    "    Display the plot with the output widget. \n",
    "</div>"
   ]
  },
  {
   "cell_type": "code",
   "execution_count": null,
   "metadata": {},
   "outputs": [],
   "source": [
    "display(Box(children=[out], layout=Layout(justify_content='center')))"
   ]
  }
 ],
 "metadata": {
  "kernelspec": {
   "display_name": "Python 3",
   "language": "python",
   "name": "python3"
  },
  "language_info": {
   "codemirror_mode": {
    "name": "ipython",
    "version": 3
   },
   "file_extension": ".py",
   "mimetype": "text/x-python",
   "name": "python",
   "nbconvert_exporter": "python",
   "pygments_lexer": "ipython3",
   "version": "3.7.9"
  }
 },
 "nbformat": 4,
 "nbformat_minor": 4
}
