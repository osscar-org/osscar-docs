{
 "cells": [
  {
   "cell_type": "markdown",
   "metadata": {},
   "source": [
    "# **A simple math problem**\n",
    "\n",
    "<p style=\"text-align: justify;font-size:15px;width: 90%\">\n",
    "In this tutorial, we will use the Jupyter notebook with different \n",
    "    widgets to present a simple math problem. The Jupyter notebook \n",
    "    will plot and show the sine function $sin(kx+w)$ interactively. \n",
    "    The users can change the parameters k and w with two sliders. \n",
    "    <strong>You will find the solution at the end of this tutorial.</strong> \n",
    "</p>"
   ]
  },
  {
   "cell_type": "code",
   "execution_count": null,
   "metadata": {},
   "outputs": [],
   "source": [
    "%reload_ext reprint_magic"
   ]
  },
  {
   "cell_type": "markdown",
   "metadata": {},
   "source": [
    "## **Use the widgets with interact function**\n",
    "\n",
    "<p style=\"text-align: justify;font-size:15px;width: 90%\"> \n",
    "    The <strong>interact</strong> function in the ipywidgets package creates the GUIs automatically. It is the easiest way to build widgets in Jupyter notebook. Our task is to present the sine function $sin(wx+b)$ interactively. We can accomplish the task following three steps:\n",
    "</p>\n",
    "    \n",
    "1. Plot the sine function with matplotlib package. \n",
    "2. Define the update function. \n",
    "3. Use interact function to create the widget. "
   ]
  },
  {
   "cell_type": "markdown",
   "metadata": {},
   "source": [
    "### **1. Plot the sine function with matplotlib package.**"
   ]
  },
  {
   "cell_type": "code",
   "execution_count": null,
   "metadata": {},
   "outputs": [],
   "source": [
    "%matplotlib widget"
   ]
  },
  {
   "cell_type": "code",
   "execution_count": null,
   "metadata": {},
   "outputs": [],
   "source": [
    "%%reprint \n",
    "import numpy as np\n",
    "import matplotlib.pyplot as plt\n",
    "from ipywidgets import IntSlider\n",
    "import ipywidgets as widgets\n",
    "\n",
    "x = np.linspace(0, 2 * np.pi, 2000)\n",
    "fig = plt.figure()\n",
    "ax = fig.add_subplot(1, 1, 1)\n",
    "line, = ax.plot(x, np.sin(x),'r-')\n",
    "ax.grid(True)\n",
    "plt.xlim(0,6)\n",
    "plt.title(r\"Function $sin(wx+b)$\", fontsize=15)"
   ]
  },
  {
   "cell_type": "markdown",
   "metadata": {},
   "source": [
    "### **2. Define the update function.** "
   ]
  },
  {
   "cell_type": "code",
   "execution_count": null,
   "metadata": {},
   "outputs": [],
   "source": [
    "%%reprint\n",
    "def update(w=IntSlider(value=10, min=-10, max=10), b=IntSlider(value=0.0, min=-10, max=10)):\n",
    "    line.set_ydata(np.sin(w * x + b))\n",
    "    fig.canvas.draw_idle()"
   ]
  },
  {
   "cell_type": "markdown",
   "metadata": {},
   "source": [
    "### **3. Use interact function to create the widget.**"
   ]
  },
  {
   "cell_type": "code",
   "execution_count": null,
   "metadata": {},
   "outputs": [],
   "source": [
    "%%reprint \n",
    "\n",
    "widgets.interact(update);"
   ]
  },
  {
   "cell_type": "markdown",
   "metadata": {},
   "source": [
    "<p style=\"text-align: justify;font-size:15px;width: 90%\">\n",
    "Two integer sliders were shown above for the parameter w and b. \n",
    "    Put the code together, we obtained the GUI as presented below:\n",
    "</p>"
   ]
  },
  {
   "cell_type": "code",
   "execution_count": null,
   "metadata": {},
   "outputs": [],
   "source": [
    "%matplotlib widget\n",
    "\n",
    "import numpy as np\n",
    "import matplotlib.pyplot as plt\n",
    "from ipywidgets import IntSlider\n",
    "\n",
    "\n",
    "xa = np.linspace(0, 2 * np.pi, 2000)\n",
    "figa = plt.figure()\n",
    "axa = figa.add_subplot(1, 1, 1)\n",
    "linea, = axa.plot(xa, np.sin(xa),'r-')\n",
    "axa.grid(True)\n",
    "plt.xlim(0,6)\n",
    "plt.title(r\"Function $sin(wx+b)$\", fontsize=15)\n",
    "\n",
    "def updatea(w=IntSlider(value=10, min=-10, max=10), b=IntSlider(value=0.0, min=-10, max=10)):\n",
    "    linea.set_ydata(np.sin(w * x + b))\n",
    "    figa.canvas.draw_idle()\n",
    "\n",
    "widgets.interact(updatea);"
   ]
  },
  {
   "cell_type": "code",
   "execution_count": null,
   "metadata": {},
   "outputs": [],
   "source": []
  }
 ],
 "metadata": {
  "kernelspec": {
   "display_name": "Python 3",
   "language": "python",
   "name": "python3"
  },
  "language_info": {
   "codemirror_mode": {
    "name": "ipython",
    "version": 3
   },
   "file_extension": ".py",
   "mimetype": "text/x-python",
   "name": "python",
   "nbconvert_exporter": "python",
   "pygments_lexer": "ipython3",
   "version": "3.7.9"
  }
 },
 "nbformat": 4,
 "nbformat_minor": 4
}
