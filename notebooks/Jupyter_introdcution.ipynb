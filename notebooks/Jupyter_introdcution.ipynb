{
 "cells": [
  {
   "cell_type": "markdown",
   "metadata": {},
   "source": [
    "## **Jupyter notebook**\n",
    "\n",
    "<br>\n",
    "<p style=\"text-align: justify;font-size:15px;width: 90%\">\n",
    "    The Jupyter Notebook is an open-source web application that allows \n",
    "    you to create and share documents that contain live code, equations, \n",
    "    visualizations and narrative text. Uses include: data cleaning and \n",
    "    transformation, numerical simulation, statistical modeling, data \n",
    "    visualization, machine learning, and much more.\"\n",
    "</p>\n",
    "\n",
    "<img src=\"figures/fig_jupyternotebook.png\"\n",
    "     alt=\"Jupyter notebook interface\"\n",
    "     style=\"float: left; margin-right: 10px; height: 300px; width: 400px\" />\n",
    "     \n",
    "__What you are viewing now is in Jupyter notebook.__ \n",
    "\n",
    "[jupyter.org](http://www.jupyter.org)"
   ]
  },
  {
   "cell_type": "markdown",
   "metadata": {},
   "source": [
    "## **Installation of the Jupyter notebook**\n",
    "\n",
    "<p style=\"text-align: justify;font-size:15px;width: 90%\">\n",
    "Jupyter notebook can be installed by conda.\n",
    "</p>\n",
    "\n",
    "```bash\n",
    "conda install -c conda-forge jupyter\n",
    "```\n",
    "<p style=\"text-align: justify;font-size:15px;width: 90%\">\n",
    "or with pip:\n",
    "</p>\n",
    "\n",
    "```bash\n",
    "pip install jupyter \n",
    "```"
   ]
  },
  {
   "cell_type": "markdown",
   "metadata": {},
   "source": [
    "## **Run Jupyter notebook**\n",
    "\n",
    "<p style=\"text-align: justify;font-size:15px;width: 90%\">\n",
    "Run the Jupyter notebook in the terminal:\n",
    "</p>\n",
    "\n",
    "```bash\n",
    "jupyter notebook\n",
    "```\n",
    "\n",
    "<p style=\"text-align: justify;font-size:15px;width: 90%\">\n",
    "The terminal should open a webpage to the Jupyter notebook. In the terminal, you will also see the URL link to the Juptyer notebook. The URL link is like localhost:[port]. The port is the port number. You can reopen the Jupyter notebook with this link in any web browser. \n",
    "</p>"
   ]
  },
  {
   "cell_type": "markdown",
   "metadata": {},
   "source": [
    "## **Installation of dependencies/modules** \n",
    "\n",
    "<p style=\"text-align: justify;font-size:15px;width: 90%\">\n",
    "In this tutorial, we need to install five python package, which are numpy, ipywidgets, \n",
    "    ipympl, appmode and IPython. The python libraries can be easily installed by \n",
    "    the pip or conda program. For example, install the  numpy library:\n",
    "</p>\n",
    "    \n",
    "with **pip**:\n",
    "```bash\n",
    "pip install numpy\n",
    "```\n",
    "or with **conda**:\n",
    "```bash\n",
    "conda install -c conda-forge numpy\n",
    "```\n"
   ]
  }
 ],
 "metadata": {
  "kernelspec": {
   "display_name": "Python 3",
   "language": "python",
   "name": "python3"
  },
  "language_info": {
   "codemirror_mode": {
    "name": "ipython",
    "version": 3
   },
   "file_extension": ".py",
   "mimetype": "text/x-python",
   "name": "python",
   "nbconvert_exporter": "python",
   "pygments_lexer": "ipython3",
   "version": "3.7.9"
  }
 },
 "nbformat": 4,
 "nbformat_minor": 4
}
