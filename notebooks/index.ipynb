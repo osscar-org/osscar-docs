{
 "cells": [
  {
   "cell_type": "markdown",
   "metadata": {},
   "source": [
    "# **OSSCAR tutorial index**\n",
    "\n",
    "<hr style=\"height:1px;border:none;color:#cccccc;background-color:#cccccc;\" />\n",
    "\n",
    "<ol style=\"font-size:18px\">\n",
    "<li><a href=\"Jupyter_introdcution.ipynb\">Jupyter introduction</a></li>\n",
    "<li><a href=\"Binder_tutorial.ipynb\">Use binder for Jupyter notebook and lab</a></li>\n",
    "<li><a href=\"Binder_voila.ipynb\">Voila for web applications</a></li>\n",
    "<li><a href=\"Use_widgets.ipynb\">Use widget for the Jupyter</a></li>\n",
    "<li><a href=\"Custom_widget_example.ipynb\">A custom widget example</a></li>\n",
    "<li><a href=\"Sine_function_a.ipynb\">Sine function with widget interact</a></li>\n",
    "<li><a href=\"Sine_function_b.ipynb\">Sine function with more advanced widgets</a></li>   \n",
    "</ol>\n"
   ]
  },
  {
   "cell_type": "code",
   "execution_count": null,
   "metadata": {},
   "outputs": [],
   "source": []
  }
 ],
 "metadata": {
  "kernelspec": {
   "display_name": "Python 3",
   "language": "python",
   "name": "python3"
  },
  "language_info": {
   "codemirror_mode": {
    "name": "ipython",
    "version": 3
   },
   "file_extension": ".py",
   "mimetype": "text/x-python",
   "name": "python",
   "nbconvert_exporter": "python",
   "pygments_lexer": "ipython3",
   "version": "3.7.9"
  }
 },
 "nbformat": 4,
 "nbformat_minor": 4
}
