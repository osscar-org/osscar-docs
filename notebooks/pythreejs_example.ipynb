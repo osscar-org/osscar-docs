{
 "cells": [
  {
   "cell_type": "markdown",
   "metadata": {},
   "source": [
    "# Pythreejs tutorial and example\n",
    "\n",
    "Here is a example to use the pythreejs package to create a molecular cubic structure visualizer. \n",
    "For molecular structure, the cubic crystal system has three different phases, namely the face centre cubic (FCC), body center cubic (BCC) and simple cubic structures. "
   ]
  },
  {
   "cell_type": "code",
   "execution_count": 4,
   "metadata": {},
   "outputs": [],
   "source": [
    "from pythreejs import *\n",
    "import numpy as np\n",
    "from IPython.display import display\n",
    "from ipywidgets import HTML, Text, Output, VBox\n",
    "from traitlets import link, dlink\n",
    "import math"
   ]
  },
  {
   "cell_type": "markdown",
   "metadata": {},
   "source": [
    "## Initalize the vertices coordinates and face numbers"
   ]
  },
  {
   "cell_type": "code",
   "execution_count": 5,
   "metadata": {},
   "outputs": [],
   "source": [
    "vertices = [\n",
    "    [0, 0, 0],\n",
    "    [0, 0, 1],\n",
    "    [0, 1, 0],\n",
    "    [0, 1, 1],\n",
    "    [1, 0, 0],\n",
    "    [1, 0, 1],\n",
    "    [1, 1, 0],\n",
    "    [1, 1, 1]\n",
    "]\n",
    "\n",
    "faces = [\n",
    "    [0, 1, 3],\n",
    "    [0, 3, 2],\n",
    "    [0, 2, 4],\n",
    "    [2, 6, 4],\n",
    "    [0, 4, 1],\n",
    "    [1, 4, 5],\n",
    "    [2, 3, 6],\n",
    "    [3, 7, 6],\n",
    "    [1, 5, 3],\n",
    "    [3, 5, 7],\n",
    "    [4, 6, 5],\n",
    "    [5, 6, 7]\n",
    "]\n",
    "\n",
    "surfaces = [\n",
    "    [0, 0.5, 0.5],\n",
    "    [1, 0.5, 0.5],\n",
    "    [0.5, 0.5, 0],\n",
    "    [0.5, 0.5, 1],\n",
    "    [0.5, 0, 0.5],\n",
    "    [0.5, 1, 0.5]\n",
    "]"
   ]
  },
  {
   "cell_type": "markdown",
   "metadata": {},
   "source": [
    "## Using the SphereGeometry to create atoms \n",
    "\n",
    "SphereGeometry is a class for generating sphere geometries. \n",
    "\n",
    "SphereGeometry(radius : Float, widthSegments : Integer, heightSegments : Integer, phiStart : Float, phiLength : Float, thetaStart : Float, thetaLength : Float)\n",
    "* radius — sphere radius. Default is 1.\n",
    "* widthSegments — number of horizontal segments. Minimum value is 3, and the default is 8.\n",
    "* heightSegments — number of vertical segments. Minimum value is 2, and the default is 6.\n",
    "* phiStart — specify horizontal starting angle. Default is 0.\n",
    "* phiLength — specify horizontal sweep angle size. Default is Math.PI * 2.\n",
    "* thetaStart — specify vertical starting angle. Default is 0.\n",
    "* thetaLength — specify vertical sweep angle size. Default is Math.PI."
   ]
  },
  {
   "cell_type": "code",
   "execution_count": 6,
   "metadata": {},
   "outputs": [],
   "source": [
    "# balls at vertex \n",
    "balls = [Mesh(geometry=SphereGeometry(radius=0.1, widthSegments=32, heightSegments=32,\n",
    "                                     phiStart = 0, phiLength = math.pi*2,\n",
    "                                     thetaStart = 0, thetaLength = math.pi,), \n",
    "            material=MeshLambertMaterial(color='red', opacity = 0.7, transparent = True),\n",
    "            position=i) for i in vertices]\n",
    "\n",
    "cball = Mesh(geometry=SphereGeometry(radius=0.1, widthSegments=32, heightSegments=32,\n",
    "                                     phiStart = 0, phiLength = math.pi*2,\n",
    "                                     thetaStart = 0, thetaLength = math.pi), \n",
    "            material=MeshLambertMaterial(color='gold'),\n",
    "            position=[0.5, 0.5, 0.5])\n",
    "\n",
    "sballs = [Mesh(geometry=SphereGeometry(radius=0.1, widthSegments=32, heightSegments=32,\n",
    "                                     phiStart = 0, phiLength = math.pi*2,\n",
    "                                     thetaStart = 0, thetaLength = math.pi), \n",
    "            material=MeshLambertMaterial(color='red', opacity = 0.7, transparent = True),\n",
    "            position=i) for i in surfaces]"
   ]
  },
  {
   "cell_type": "markdown",
   "metadata": {},
   "source": [
    "## Create a box geometry and obtain its edges \n",
    "\n",
    "BoxGeometry is a geometry class for a rectangular cuboid with a given 'width', 'height', and 'depth'. On creation, the cuboid is centred on the origin, with each edge parallel to one of the axes.\n",
    "\n",
    "BoxGeometry(width : Float, height : Float, depth : Float, widthSegments : Integer, heightSegments : Integer, depthSegments : Integer)\n",
    "* width — Width; that is, the length of the edges parallel to the X axis. Optional; defaults to 1.\n",
    "* height — Height; that is, the length of the edges parallel to the Y axis. Optional; defaults to 1.\n",
    "* depth — Depth; that is, the length of the edges parallel to the Z axis. Optional; defaults to 1.\n",
    "* widthSegments — Number of segmented rectangular faces along the width of the sides. Optional; defaults to 1.\n",
    "* heightSegments — Number of segmented rectangular faces along the height of the sides. Optional; defaults to 1.\n",
    "* depthSegments — Number of segmented rectangular faces along the depth of the sides. Optional; defaults to 1.\n",
    "\n",
    "EdgesGeometry can be used as a helper object to view the edges of a Geometry object. \n",
    "\n",
    "EdgesGeometry( geometry : Geometry, thresholdAngle : Integer )\n",
    "* geometry — Any geometry object.\n",
    "* thresholdAngle — An edge is only rendered if the angle (in degrees) between the face normals of the adjoining faces exceeds this value. default = 1 degree."
   ]
  },
  {
   "cell_type": "code",
   "execution_count": 7,
   "metadata": {},
   "outputs": [],
   "source": [
    "box = BoxGeometry(1,1,1)\n",
    "edgesGemoetry = EdgesGeometry(box);"
   ]
  },
  {
   "cell_type": "markdown",
   "metadata": {},
   "source": [
    "## Create mesh for surfaces and line segments for edges\n",
    "\n",
    "Mesh class representing triangular polygon mesh based objects. Also serves as a base for other classes.\n",
    "\n",
    "Mesh( geometry : Geometry, material : Material )\n",
    "* geometry — (optional) an instance of Geometry or BufferGeometry. Default is a new BufferGeometry.\n",
    "* material — (optional) a single or an array of Material. Default is a new MeshBasicMaterial\n",
    "\n",
    "LineSegments creates a series of lines drawn between pairs of vertices.\n",
    "\n",
    "LineSegments( geometry : Geometry, material : Material )\n",
    "* geometry — Pair(s) of vertices representing each line segment(s).\n",
    "* material — Material for the line. Default is LineBasicMaterial."
   ]
  },
  {
   "cell_type": "code",
   "execution_count": 8,
   "metadata": {},
   "outputs": [],
   "source": [
    "# Create a mesh. Note that the material need to be told to use the vertex colors.\n",
    "myobjectCube = Mesh(\n",
    "    geometry=box,\n",
    "    material= MeshPhongMaterial(color = 'blue', opacity = 0.4, transparent = True),\n",
    "    position=[0.5, 0.5, 0.5],   # Center the cube\n",
    ")\n",
    "\n",
    "\n",
    "edges = LineSegments(\n",
    "    geometry = edgesGemoetry,\n",
    "    material = LineBasicMaterial(color = 'black', linewidth = 3),\n",
    "    position = [0.5, 0.5, 0.5]\n",
    ")"
   ]
  },
  {
   "cell_type": "markdown",
   "metadata": {},
   "source": [
    "## Create a camera\n",
    "\n",
    "Camera that uses perspective projection. The perspective projection mode is designed to mimic the way the human eye sees. It is the most common projection mode used for rendering a 3D scene. "
   ]
  },
  {
   "cell_type": "code",
   "execution_count": 9,
   "metadata": {},
   "outputs": [],
   "source": [
    "# Set up a scene and render it:\n",
    "cCube = PerspectiveCamera(position=[3, 3, 3], fov=20,\n",
    "                      children=[DirectionalLight(color='#ffffff', position=[-3, 5, 1], intensity=0.5)])"
   ]
  },
  {
   "cell_type": "markdown",
   "metadata": {},
   "source": [
    "## Create a scene\n",
    "\n",
    "Scenes allow you to set up what and where is to be rendered by three.js. This is where you place objects, lights and cameras."
   ]
  },
  {
   "cell_type": "code",
   "execution_count": 10,
   "metadata": {},
   "outputs": [],
   "source": [
    "sceneCube = Scene(children= balls + sballs + [myobjectCube, cCube, cball, edges, AmbientLight(color='#dddddd')])"
   ]
  },
  {
   "cell_type": "markdown",
   "metadata": {},
   "source": [
    "## Render the objects "
   ]
  },
  {
   "cell_type": "code",
   "execution_count": 11,
   "metadata": {},
   "outputs": [],
   "source": [
    "rendererCube = Renderer(camera=cCube, background='black', background_opacity=1,\n",
    "                        scene=sceneCube, controls=[OrbitControls(controlling=cCube)], \n",
    "                        width=500, height=500)"
   ]
  },
  {
   "cell_type": "code",
   "execution_count": 12,
   "metadata": {},
   "outputs": [
    {
     "data": {
      "application/vnd.jupyter.widget-view+json": {
       "model_id": "0b3b719a28cf42de98bc41e313f45f46",
       "version_major": 2,
       "version_minor": 0
      },
      "text/plain": [
       "VBox(children=(RadioButtons(description='Structures', options=('FCC', 'BCC', 'Simple Cubic'), value='FCC'), Re…"
      ]
     },
     "metadata": {},
     "output_type": "display_data"
    }
   ],
   "source": [
    "from ipywidgets import HBox, VBox, Button, RadioButtons, FloatSlider \n",
    "\n",
    "def on_value_change(change):\n",
    "    if structureSelection.value == 'Simple Cubic':\n",
    "        cball.visible = False\n",
    "        for i in sballs:\n",
    "            i.visible = False\n",
    "    elif structureSelection.value == 'BCC':\n",
    "        cball.visible = True\n",
    "        for i in sballs:\n",
    "            i.visible = False\n",
    "    else:\n",
    "        cball.visible = False\n",
    "        for i in sballs:\n",
    "            i.visible = True\n",
    "\n",
    "def on_radius_change(change):\n",
    "    for i in balls + sballs:\n",
    "        i.scale = [10*radius.value, 10*radius.value, 10*radius.value]\n",
    "        \n",
    "    cball.scale = [10*radius.value, 10*radius.value, 10*radius.value]\n",
    "    \n",
    "    \n",
    "structureSelection = RadioButtons(\n",
    "        options = ['FCC', 'BCC', 'Simple Cubic'],\n",
    "        description = 'Structures',\n",
    "        disabled = False)\n",
    "\n",
    "structureSelection.observe(on_value_change, names='value')\n",
    "\n",
    "radius = FloatSlider(\n",
    "    value=0.0,\n",
    "    min=0.0,\n",
    "    max=0.5,\n",
    "    step=0.1,\n",
    "    description='Radius (a):',\n",
    "    disabled=False,\n",
    "    continuous_update=False,\n",
    "    orientation='horizontal',\n",
    "    readout=True,\n",
    "    readout_format='.1f',\n",
    ")\n",
    "\n",
    "radius.observe(on_radius_change, names = 'value')\n",
    "\n",
    "display(VBox([structureSelection, rendererCube, radius]))"
   ]
  },
  {
   "cell_type": "markdown",
   "metadata": {},
   "source": [
    "This work has been done with the support of the EPFL Open Science found [OSSCAR](http://www.osscar.org).\n",
    "\n",
    "<img src=\"http://www.osscar.org/wp-content/uploads/2019/03/OSSCAR-logo.png\" style=\"height:40px; width: 200px\"/>"
   ]
  }
 ],
 "metadata": {
  "kernelspec": {
   "display_name": "Python 3",
   "language": "python",
   "name": "python3"
  },
  "language_info": {
   "codemirror_mode": {
    "name": "ipython",
    "version": 3
   },
   "file_extension": ".py",
   "mimetype": "text/x-python",
   "name": "python",
   "nbconvert_exporter": "python",
   "pygments_lexer": "ipython3",
   "version": "3.7.6"
  }
 },
 "nbformat": 4,
 "nbformat_minor": 4
}
