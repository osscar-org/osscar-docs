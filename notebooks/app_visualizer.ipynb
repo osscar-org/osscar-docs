{
 "cells": [
  {
   "cell_type": "markdown",
   "metadata": {},
   "source": [
    "# **A simple web application with nglview and periodic table widget**\n",
    "\n",
    "* textarea to input name of the molecules (ipywidgets)\n",
    "* obtain molecular structure from ase.build.molecule (ase)\n",
    "* show the structure with nglview (nglview)\n",
    "* highlight the elements of the strucutre in the periodic table (widget_periodictable)\n",
    "* use Voila and OSSCAR template to present the web app (voila and voila-osscar-template)"
   ]
  },
  {
   "cell_type": "code",
   "execution_count": null,
   "metadata": {},
   "outputs": [],
   "source": [
    "from ase.build import molecule\n",
    "from widget_periodictable import PTableWidget\n",
    "import nglview as nv\n",
    "from ipywidgets import HBox, VBox, Textarea, Button, Layout"
   ]
  },
  {
   "cell_type": "code",
   "execution_count": null,
   "metadata": {},
   "outputs": [],
   "source": [
    "aa = molecule(\"C60\")\n",
    "aa.set_cell([[15, 0, 0], [0, 15, 0], [0, 0, 15]])\n",
    "aa.center()\n",
    "aa.pbc=True\n",
    "view = nv.show_ase(aa)\n",
    "view.add_unitcell()\n",
    "view.control.zoom(0.2)\n",
    "view.add_ball_and_stick(aspectRatio=4)\n",
    "view.camera='perspective'"
   ]
  },
  {
   "cell_type": "code",
   "execution_count": null,
   "metadata": {},
   "outputs": [],
   "source": [
    "w = Textarea(\n",
    "    value='C60',\n",
    "    placeholder='Type your molecule',\n",
    "    description='Molecule:',\n",
    "    disabled=False,\n",
    "    layout=Layout(width='28%', height='27px')\n",
    ")"
   ]
  },
  {
   "cell_type": "code",
   "execution_count": null,
   "metadata": {},
   "outputs": [],
   "source": [
    "PTable = PTableWidget(states=1, selected_colors = ['red'], selected_elements = {'C':0})"
   ]
  },
  {
   "cell_type": "code",
   "execution_count": null,
   "metadata": {},
   "outputs": [],
   "source": [
    "def on_button_click(b):\n",
    "    global view\n",
    "    aa = molecule(w.value)\n",
    "    aa.set_cell([[15, 0, 0], [0, 15, 0], [0, 0, 15]])\n",
    "    aa.center()\n",
    "    aa.pbc=True\n",
    "    for comp_id in view._ngl_component_ids:\n",
    "        view.remove_component(comp_id)\n",
    "    view.add_component(nv.ASEStructure(aa))\n",
    "    view.clear()\n",
    "    view.add_ball_and_stick(aspectRatio=4)\n",
    "    view.add_unitcell()\n",
    "    view.control.zoom(0.2)\n",
    "    PTable.selected_elements = {key: 0 for key in list(dict.fromkeys(aa.get_chemical_symbols()))}\n",
    "    \n",
    "b = Button(description = 'Update')\n",
    "b.on_click(on_button_click)   "
   ]
  },
  {
   "cell_type": "code",
   "execution_count": null,
   "metadata": {},
   "outputs": [],
   "source": [
    "display(HBox([w, b]), VBox([view, PTable]))"
   ]
  }
 ],
 "metadata": {
  "kernelspec": {
   "display_name": "Python 3",
   "language": "python",
   "name": "python3"
  },
  "language_info": {
   "codemirror_mode": {
    "name": "ipython",
    "version": 3
   },
   "file_extension": ".py",
   "mimetype": "text/x-python",
   "name": "python",
   "nbconvert_exporter": "python",
   "pygments_lexer": "ipython3",
   "version": "3.7.6"
  }
 },
 "nbformat": 4,
 "nbformat_minor": 4
}
