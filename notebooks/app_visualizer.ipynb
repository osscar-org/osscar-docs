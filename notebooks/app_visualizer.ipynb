{
 "cells": [
  {
   "cell_type": "markdown",
   "metadata": {},
   "source": [
    "# **A simple web application with nglview and periodic table widget**\n",
    "\n",
    "* textarea to input name of the molecules (ipywidgets)\n",
    "* obtain molecular structure from ase.build.molecule (ase)\n",
    "* show the structure with nglview (nglview)\n",
    "* highlight the elements of the strucutre in the periodic table (widget_periodictable)\n",
    "* use Voila and OSSCAR template to present the web app (voila and voila-osscar-template)"
   ]
  },
  {
   "cell_type": "code",
   "execution_count": 8,
   "metadata": {},
   "outputs": [],
   "source": [
    "from ase.build import molecule\n",
    "from widget_periodictable import PTableWidget\n",
    "import nglview as nv\n",
    "from ipywidgets import HBox, VBox, Textarea, Button, Layout\n",
    "import numpy as np\n",
    "from vapory import *\n",
    "from numpy.linalg import norm\n",
    "from copy import deepcopy"
   ]
  },
  {
   "cell_type": "code",
   "execution_count": 9,
   "metadata": {},
   "outputs": [],
   "source": [
    "colors = {'H': [255,255,255],\n",
    "         'He': [217,255,255],\n",
    "         'Li': [204,128,255],\n",
    "         'Be': [194,255,0],\n",
    "         'B': [255,181,181],\n",
    "         'C': [144,144,144],\n",
    "         'N': [48,80,248],\n",
    "         'O': [255,13,13],\n",
    "         'F': [144,224,80],\n",
    "         'Ne': [179,227,245],\n",
    "         'Na': [171,92,242],\n",
    "         'Mg': [138,255,0],\n",
    "         'Al': [191,166,166],\n",
    "         'Si': [240,200,160],\n",
    "         'P': [255,128,0],\n",
    "         'S': [255,255,48],\n",
    "         'Cl': [31,240,31],\n",
    "         'Ar': [128,209,227],\n",
    "         'K': [143,64,212],\n",
    "         'Ca': [61,255,0]}\n",
    "\n",
    "radius = {'H': 0.53,\n",
    "         'He': 0.31,\n",
    "         'Li': 1.67,\n",
    "         'Be': 1.12,\n",
    "         'B': 0.87,\n",
    "         'C': 0.67,\n",
    "         'N': 0.56,\n",
    "         'O': 0.48,\n",
    "         'F': 0.42,\n",
    "         'Ne': 0.38,\n",
    "         'Na': 1.90,\n",
    "         'Mg': 1.45,\n",
    "         'Al': 1.18,\n",
    "         'Si': 1.11,\n",
    "         'P': 0.98,\n",
    "         'S': 0.88,\n",
    "         'Cl': 0.79,\n",
    "         'Ar': 0.71,\n",
    "         'K': 2.43,\n",
    "         'Ca': 1.94}"
   ]
  },
  {
   "cell_type": "code",
   "execution_count": 10,
   "metadata": {},
   "outputs": [],
   "source": [
    "aa = molecule(\"C60\")\n",
    "aa.set_cell([[15, 0, 0], [0, 15, 0], [0, 0, 15]])\n",
    "aa.center()\n",
    "aa.pbc=True\n",
    "view = nv.show_ase(aa)\n",
    "view.add_unitcell()\n",
    "view.control.zoom(0.2)\n",
    "view.add_ball_and_stick(aspectRatio=4)\n",
    "view.camera='perspective'"
   ]
  },
  {
   "cell_type": "code",
   "execution_count": 11,
   "metadata": {},
   "outputs": [],
   "source": [
    "w = Textarea(\n",
    "    value='C60',\n",
    "    placeholder='Type your molecule',\n",
    "    description='Molecule:',\n",
    "    disabled=False,\n",
    "    layout=Layout(width='28%', height='27px')\n",
    ")"
   ]
  },
  {
   "cell_type": "code",
   "execution_count": 12,
   "metadata": {},
   "outputs": [],
   "source": [
    "PTable = PTableWidget(states=1, selected_colors = ['red'], selected_elements = {'C':0})"
   ]
  },
  {
   "cell_type": "code",
   "execution_count": 13,
   "metadata": {},
   "outputs": [],
   "source": [
    "def on_button_click(b):\n",
    "    global view, aa\n",
    "    aa = molecule(w.value)\n",
    "    aa.set_cell([[15, 0, 0], [0, 15, 0], [0, 0, 15]])\n",
    "    aa.center()\n",
    "    aa.pbc=True\n",
    "    for comp_id in view._ngl_component_ids:\n",
    "        view.remove_component(comp_id)\n",
    "    view.add_component(nv.ASEStructure(aa))\n",
    "    view.clear()\n",
    "    view.add_ball_and_stick(aspectRatio=4)\n",
    "    view.add_unitcell()\n",
    "    view.control.zoom(0.2)\n",
    "    PTable.selected_elements = {key: 0 for key in list(dict.fromkeys(aa.get_chemical_symbols()))}\n",
    "\n",
    "def povray_render(b):\n",
    "    A = view._camera_orientation\n",
    "    A = np.array(A)\n",
    "    A=A.reshape(4,4)\n",
    "    A=np.transpose(A)\n",
    "\n",
    "    zfactor = norm(A[0, 0:3])\n",
    "    A[0:3, 0:3] = A[0:3, 0:3]/zfactor\n",
    "    \n",
    "    bb = deepcopy(aa);\n",
    "\n",
    "    for i in bb:\n",
    "        a = np.array([i.x, i.y, i.z])\n",
    "        a = a + A[0:3, 3];\n",
    "        w = A[0:3, 0:3].dot(a)\n",
    "        i.x = -w[0]\n",
    "        i.y = w[1]\n",
    "        i.z = w[2]    \n",
    "\n",
    "    camera = Camera( 'location', [0, 0, -zfactor/1.5], 'look_at', [0.0, 0.0, 0.0])\n",
    "\n",
    "    light1 = LightSource([0, 0, -60.0], 'color',  [1.5, 1.5, 1.5])\n",
    "    light2 = LightSource([-60.0, 0, 0], 'color',  [1, 1, 1])\n",
    "    light3 = LightSource([0, -60.0, 0], 'color',  [1, 1, 1])\n",
    "\n",
    "    #light = LightSource(-A[2][0:3], [1.3, 1.3, 1.3])\n",
    "    wall = Plane([0, 0, 200], 20, Texture(Pigment('color', [1, 1, 1])))\n",
    "\n",
    "    spheres = [];\n",
    "\n",
    "    for i in bb:\n",
    "        sphere = Sphere( [i.x, i.y, i.z], radius[i.symbol], \n",
    "                        Texture(Pigment( 'color', np.array(colors[i.symbol])/255)))\n",
    "        spheres.append(sphere)\n",
    "\n",
    "\n",
    "    bonds = [];\n",
    "    for x, i in enumerate(bb):\n",
    "        for j in bb[x+1:]:\n",
    "            v1 = np.array([i.x, i.y, i.z])\n",
    "            v2 = np.array([j.x, j.y, j.z])\n",
    "\n",
    "            if norm(v1-v2) < 1.5:\n",
    "                bond = Cylinder(v1, v2, 0.2, Pigment('color', [0, 0, 1]),Finish('phong', 0.8,'reflection', 0.5))\n",
    "                bonds.append(bond)\n",
    "\n",
    "    scene = Scene( camera, objects= [light1, wall] + spheres + bonds)\n",
    "    scene.render(\"nglview.png\", width=1000, height=1000, antialiasing=0.001)\n",
    "\n",
    "    \n",
    "b = Button(description = 'Update')\n",
    "br = Button(description = 'Render')\n",
    "b.on_click(on_button_click)\n",
    "br.on_click(povray_render)"
   ]
  },
  {
   "cell_type": "code",
   "execution_count": 14,
   "metadata": {},
   "outputs": [
    {
     "data": {
      "application/vnd.jupyter.widget-view+json": {
       "model_id": "41aa39b295a04bb9a46bbd32db92119a",
       "version_major": 2,
       "version_minor": 0
      },
      "text/plain": [
       "HBox(children=(Textarea(value='C60', description='Molecule:', layout=Layout(height='27px', width='28%'), place…"
      ]
     },
     "metadata": {},
     "output_type": "display_data"
    },
    {
     "data": {
      "application/vnd.jupyter.widget-view+json": {
       "model_id": "0d9aa1cb6bb3441e9f1872d66f191e02",
       "version_major": 2,
       "version_minor": 0
      },
      "text/plain": [
       "VBox(children=(NGLWidget(), PTableWidget(allElements=['H', 'He', 'Li', 'Be', 'B', 'C', 'N', 'O', 'F', 'Ne', 'N…"
      ]
     },
     "metadata": {},
     "output_type": "display_data"
    }
   ],
   "source": [
    "display(HBox([w, b, br]), VBox([view, PTable]))"
   ]
  },
  {
   "cell_type": "code",
   "execution_count": null,
   "metadata": {},
   "outputs": [],
   "source": []
  }
 ],
 "metadata": {
  "kernelspec": {
   "display_name": "Python 3",
   "language": "python",
   "name": "python3"
  },
  "language_info": {
   "codemirror_mode": {
    "name": "ipython",
    "version": 3
   },
   "file_extension": ".py",
   "mimetype": "text/x-python",
   "name": "python",
   "nbconvert_exporter": "python",
   "pygments_lexer": "ipython3",
   "version": "3.7.7"
  }
 },
 "nbformat": 4,
 "nbformat_minor": 4
}
