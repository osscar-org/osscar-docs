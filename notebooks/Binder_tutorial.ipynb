{
 "cells": [
  {
   "cell_type": "markdown",
   "metadata": {},
   "source": [
    "# **The binder tutorial**\n",
    "\n",
    "<img src=\"./figures/fig_binderlogo.svg\" />\n",
    "\n",
    "<br>\n",
    "\n",
    "<p style=\"text-align: justify;font-size:15px;width: 90%\">\n",
    "    The Binder is a cloud platform, which provides executable environments \n",
    "    for the Jupyter notebook and Jupyter Lab. It is very convenient \n",
    "    to use and share the notebook. You can check this notebook with binder. \n",
    "    For exmaple, you can view this notebook at mybinder.org.\n",
    "</p>\n",
    "\n",
    "[![Binder](https://mybinder.org/badge_logo.svg)](https://mybinder.org/v2/gh/dou-du/Jupyter-tutorial/lab?filepath=Binder_tutorial.ipynb)\n",
    "\n",
    "<p style=\"text-align: justify;font-size:15px;width: 90%\">\n",
    "There are two steps to set the Jupyter notebook with the binder. \n",
    "</p>"
   ]
  },
  {
   "cell_type": "markdown",
   "metadata": {},
   "source": [
    "## **1st Step: Setup GitHub repository**"
   ]
  },
  {
   "cell_type": "markdown",
   "metadata": {},
   "source": [
    "<br>\n",
    "<p style=\"text-align: justify;font-size:15px;width: 90%\">\n",
    "In order to use the Binder, one need set a repository at GitHub. The repositories at the GitHub should be <strong>public</strong>. Create GitHub account at <a href=\"https://github.com\"> github.com</a>. Follow the instruction at <a href=\"https://help.github.com/en/articles/create-a-repo\"> help.github.com</a> to initialize a git repository. \n",
    "</p>\n",
    "\n",
    "<p style=\"text-align: justify;font-size:15px;width: 90%\"> \n",
    "    In the git repository, we need create <strong>requirements.txt</strong>\n",
    "    and <strong>postBuild</strong> files beside all the Jupyter notebooks. \n",
    "</p>"
   ]
  },
  {
   "cell_type": "markdown",
   "metadata": {},
   "source": [
    "### - **File requirements.txt**\n",
    "\n",
    "<p style=\"text-align: justify;font-size:15px;width: 90%\"> \n",
    "    This spefifies a list of Python packages, which are required to run the notebooks. In the requirements.txt file, we need to write each package name per line. One can also limit the version of the package by \">\", \"<\", \">=\", \"<=\" and \"==\". For instance, <strong>ipywidgets==7.5.0</strong> means only ipywidgets pacakge in version 7.5.0 will be installed on the binder cloud. We recommend to fix the versions of all the packages. The file below showed my requirements.txt file.\n",
    "</p>\n",
    "\n",
    "```bash\n",
    "ipywidgets==7.5.0\n",
    "numpy==1.17.2\n",
    "ipympl==0.2.1\n",
    "appmode==0.6.0\n",
    "IPython==7.8.0\n",
    "```"
   ]
  },
  {
   "cell_type": "markdown",
   "metadata": {},
   "source": [
    "### - **File postBuild**\n",
    "\n",
    "<p style=\"text-align: justify;font-size:15px;width: 90%\">\n",
    "If one needs to run code or command after the installing the environment, the file postBuild can be used to specify these scripting. In our case, we need to enable the extensions for the Jupyter after installing the packages. We can put the enable commands inside the postBuid file. The first line starts with #!/bin/bash for the shell script. Here is my postBuild file shown below:\n",
    "</p>\n",
    "\n",
    "```bash\n",
    "#!/bin/bash\n",
    "jupyter labextension install @jupyter-widgets/jupyterlab-manager@0.38\n",
    "jupyter labextension install jupyter-matplotlib\n",
    "jupyter nbextension      enable --py --sys-prefix appmode\n",
    "jupyter serverextension  enable --py --sys-prefix appmode\n",
    "jupyter nbextension      enable --py widgetsnbextension\n",
    "```"
   ]
  },
  {
   "cell_type": "markdown",
   "metadata": {},
   "source": [
    "### - **Other files**\n",
    "\n",
    "<br>\n",
    "<p style=\"text-align: justify;font-size:15px;width: 90%\"> \n",
    "    There are many other files for different proposes. For instance, the <strong> start </strong> file runs the code before the user session starting. You can find all the files and tutorial in the link:\n",
    "</p>\n",
    "\n",
    "<a href=\"https://mybinder.readthedocs.io/en/latest/config_files.html\"> https://mybinder.readthedocs.io/en/latest/config_files.html</a>    \n",
    "    "
   ]
  },
  {
   "cell_type": "markdown",
   "metadata": {},
   "source": [
    "## **2nd Step: Set the binder** "
   ]
  },
  {
   "cell_type": "markdown",
   "metadata": {},
   "source": [
    "### **Use the binder for Jupyter notebook**\n",
    "\n",
    "<p style=\"text-align: justify;font-size:15px;width: 90%\">\n",
    "Open the <a href=\"https://mybinder.org/\">https://mybinder.org/</a> link, you will see a table. Put all the GitHub information into the table. My GitHub repository name is \"dou-du/Jupyter-tutorial\". The git branch is called lab. \n",
    "I want to present the notebook called \"Binder_tutorial.ipynb\". You can view the cloud webpage by pressing the yellow launch button or open the URL link in a browser. Besides, one can also copy the text into REAME file and show a binder badge.  \n",
    "</p>\n",
    "\n",
    "<img src=\"./figures/fig_mybinder.png\" style=\"width:650px;\"/>"
   ]
  },
  {
   "cell_type": "markdown",
   "metadata": {},
   "source": [
    "### **Use the binder with Appmode**"
   ]
  },
  {
   "cell_type": "markdown",
   "metadata": {},
   "source": [
    "<p style=\"text-align: justify;font-size:15px;width: 90%\">\n",
    "Appemode is a Jupyter extension, which turns the notebooks into web applications. In another word, the Appemode will run and hide the python code, which only shows the markdown and widgets. \n",
    "</p>\n",
    "\n",
    "[Appmode at GitHub](https://github.com/oschuett/appmode).\n",
    "\n",
    "<br>\n",
    "The Appmode can be installed by conda: \n",
    "\n",
    "```bash\n",
    "conda install --channel conda-forge appmode\n",
    "```\n",
    "or pip:\n",
    "```bash\n",
    "pip install appmode\n",
    "```\n",
    "\n",
    "After the installation, the Jupyter notebook needs to enable the extension by\n",
    "command lines: </br>\n",
    "\n",
    "```bash\n",
    "jupyter nbextension     enable --py --sys-prefix appmode\n",
    "jupyter serverextension enable --py --sys-prefix appmode\n",
    "\n",
    "```\n",
    "\n",
    "<p style=\"text-align: justify;font-size:15px;width: 90%\">\n",
    "For using the Binder, one needs to put the above two commands into the postBuild file. \n",
    "    After the installation, you will see a Appmode button on the top bar. Restart the \n",
    "    Jupyter notebook if you do not get it. Click the button, it will show the Jupyter \n",
    "    notebook as a web application. For the Binder useage, we can simply change the \"notebook\" \n",
    "    into \"apps\" in the Binder URL, which will open the Jupyter notebook in application model. \n",
    "    For example, change <strong>Binder_tutorial.ipynb</strong> to <strong>/apps/Binder_tutorial.ipynb</strong>.\n",
    "</p>\n",
    "\n",
    "<img src=\"./figures/fig_appmode.png\"/>"
   ]
  },
  {
   "cell_type": "markdown",
   "metadata": {},
   "source": [
    "### **Use the binder for Jupyter lab**\n",
    "\n",
    "<br>\n",
    "<p style=\"text-align: justify;font-size:15px;width: 90%\">\n",
    " We can also use the Jupyter lab in the binder. We simply need to add \n",
    "    \"lab/tree/\" in front of the file directory. We need to choice URL \n",
    "    rather than File.\n",
    "</p>\n",
    "    \n",
    "<br> \n",
    "<img src=\"./figures/fig_binderlab.png\"/>\n",
    "<br>\n",
    "<p style=\"text-align: justify;font-size:15px;width: 90%\">\n",
    "We will get a new URL link, which points the Jupyter lab with the specified notebook opening. \n",
    "</p>"
   ]
  },
  {
   "cell_type": "markdown",
   "metadata": {},
   "source": [
    "[![Binder](https://mybinder.org/badge_logo.svg)](https://mybinder.org/v2/gh/dou-du/Jupyter-tutorial/lab?urlpath=lab%2Ftree%2FBinder_tutorial.ipynb)"
   ]
  },
  {
   "cell_type": "markdown",
   "metadata": {},
   "source": [
    "### **Appmode in Jupyter lab**\n",
    "\n",
    "\n",
    "\n",
    "<br>\n",
    "\n",
    "<img src=\"./figures/fig_jupyterlab.png\" style=\"height: 350px\"/>\n",
    "\n",
    "<p style=\"text-align: justify;font-size:15px;width: 90%\">\n",
    "JupyterLab is so-called the next-generation web-based GUI for Jupyter, \n",
    "    which has much more powerful interface. Install the JupyterLab by conda: \n",
    "</p>\n",
    "\n",
    "\n",
    "```bash\n",
    "conda install -c conda-forge jupyterlab\n",
    "```\n",
    "or with pip:\n",
    "```bash\n",
    "pip install jupyterlab\n",
    "```\n",
    "\n",
    "<p style=\"text-align: justify;font-size:15px;width: 90%\"> \n",
    "The Appmode extension is only valid for Jupyter notebook. Instead, one can use \"jlab-hide-code\" package in the Jupyter lab. Install the Jupyter lab extension according to the instruction at: <a href=\"https://github.com/AixViPMaP/jlab-hide-code\">hjlab-hide-code</a>. The extension will add a button in the Jupyter lab, which can hide/unhide all code cells.\n",
    "</p>"
   ]
  }
 ],
 "metadata": {
  "kernelspec": {
   "display_name": "Python 3",
   "language": "python",
   "name": "python3"
  },
  "language_info": {
   "codemirror_mode": {
    "name": "ipython",
    "version": 3
   },
   "file_extension": ".py",
   "mimetype": "text/x-python",
   "name": "python",
   "nbconvert_exporter": "python",
   "pygments_lexer": "ipython3",
   "version": "3.7.9"
  }
 },
 "nbformat": 4,
 "nbformat_minor": 4
}
